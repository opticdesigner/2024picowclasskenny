{
 "cells": [
  {
   "cell_type": "code",
   "execution_count": 1,
   "metadata": {},
   "outputs": [
    {
     "name": "stdout",
     "output_type": "stream",
     "text": [
      "Not allow Driver License\n",
      "END\n"
     ]
    }
   ],
   "source": [
    "age = 17\n",
    "if age<18:\n",
    "    print(\"Not allow Driver License\")\n",
    "else:\n",
    "    print(\"Allow Driver License\")\n",
    "print(\"END\")"
   ]
  },
  {
   "cell_type": "code",
   "execution_count": 2,
   "metadata": {},
   "outputs": [
    {
     "data": {
      "text/plain": [
       "'345'"
      ]
     },
     "execution_count": 2,
     "metadata": {},
     "output_type": "execute_result"
    }
   ],
   "source": [
    "input(\"Please input score:\")"
   ]
  },
  {
   "cell_type": "code",
   "execution_count": 3,
   "metadata": {},
   "outputs": [
    {
     "data": {
      "text/plain": [
       "345"
      ]
     },
     "execution_count": 3,
     "metadata": {},
     "output_type": "execute_result"
    }
   ],
   "source": [
    "int(input(\"Please input score:\"))"
   ]
  },
  {
   "cell_type": "code",
   "execution_count": 4,
   "metadata": {},
   "outputs": [
    {
     "name": "stdout",
     "output_type": "stream",
     "text": [
      "789 y\n"
     ]
    }
   ],
   "source": [
    "score = int(input(\"Please input score:\"))\n",
    "is_add = input(\"是否符合加分條件? (u or n)\")\n",
    "\n",
    "print(score,is_add)"
   ]
  },
  {
   "cell_type": "code",
   "execution_count": null,
   "metadata": {},
   "outputs": [],
   "source": [
    "score = int(input(\"Please input score:\"))\n",
    "is_add = input(\"是否符合加分條件? (u or n)\")\n",
    "\n",
    "if is_add == 'y':\n",
    "    score *=1.05\n",
    "    if score > 300:\n",
    "        score = 300\n",
    "\n",
    "print(f'Student Score: {score}')"
   ]
  },
  {
   "cell_type": "code",
   "execution_count": 8,
   "metadata": {},
   "outputs": [
    {
     "name": "stdout",
     "output_type": "stream",
     "text": [
      "輸入錯誤\n",
      "END\n"
     ]
    }
   ],
   "source": [
    "try:\n",
    "    score = int(input(\"Please input score:\"))\n",
    "except:\n",
    "    print(\"輸入錯誤\")\n",
    "else:    \n",
    "    is_add = input(\"是否符合加分條件? (u or n)\")\n",
    "\n",
    "    if is_add == 'y':\n",
    "        score *=1.05\n",
    "        if score > 300:\n",
    "            score = 300\n",
    "\n",
    "    print(f'Student Score: {score}')\n",
    "\n",
    "print(\"END\")"
   ]
  },
  {
   "cell_type": "code",
   "execution_count": null,
   "metadata": {},
   "outputs": [],
   "source": [
    "try:\n",
    "    score = int(input(\"Please input score:\"))\n",
    "   # raise NameError #廣泛錯誤\n",
    "except ValueError:\n",
    "    print(\"輸入格式錯誤\")\n",
    "except Exception:\n",
    "    print(\"unkown 錯誤\")\n",
    "else:    \n",
    "    is_add = input(\"是否符合加分條件? (u or n)\")\n",
    "\n",
    "    if is_add == 'y':\n",
    "        score *=1.05\n",
    "        if score > 300:\n",
    "            score = 300\n",
    "\n",
    "    print(f'Student Score: {score}')\n",
    "\n",
    "print(\"END\")"
   ]
  },
  {
   "cell_type": "code",
   "execution_count": 10,
   "metadata": {},
   "outputs": [
    {
     "name": "stdout",
     "output_type": "stream",
     "text": [
      "Student Score: 300\n",
      "END\n"
     ]
    }
   ],
   "source": [
    "try:\n",
    "    score = int(input(\"Please input score:\"))\n",
    "    is_add = input(\"是否符合加分條件? (u or n)\")\n",
    "\n",
    "    if is_add == 'y':\n",
    "        score *=1.05\n",
    "        if score > 300:\n",
    "            score = 300\n",
    "\n",
    "    print(f'Student Score: {score}')\n",
    "  \n",
    "except ValueError:\n",
    "    print(\"輸入格式錯誤\")\n",
    "except Exception:\n",
    "    print(\"unkown 錯誤\")\n",
    "\n",
    "print(\"END\")"
   ]
  },
  {
   "cell_type": "code",
   "execution_count": 11,
   "metadata": {},
   "outputs": [
    {
     "name": "stdout",
     "output_type": "stream",
     "text": [
      "Erroe Message:輸入分數不可操過100\n",
      "END\n"
     ]
    }
   ],
   "source": [
    "try:\n",
    "    score = int(input(\"Please input score:\"))\n",
    "    if(score > 300):\n",
    "        raise Exception(\"輸入分數不可操過300\")\n",
    "    is_add = input(\"是否符合加分條件? (u or n)\")\n",
    "\n",
    "    if is_add == 'y':\n",
    "        score *=1.05\n",
    "        if score > 300:\n",
    "            score = 300\n",
    "\n",
    "    print(f'Student Score: {score}')\n",
    "  \n",
    "except ValueError:\n",
    "    print(\"輸入格式錯誤\")\n",
    "except Exception as e:\n",
    "    print(f'Erroe Message:{e}')\n",
    "\n",
    "print(\"END\")"
   ]
  },
  {
   "cell_type": "code",
   "execution_count": null,
   "metadata": {},
   "outputs": [],
   "source": [
    "value = 70\n",
    "if value >= 90:\n",
    "    print(\"over or eq 90\")\n",
    "else:\n",
    "    print(\"<90\")"
   ]
  },
  {
   "cell_type": "code",
   "execution_count": 13,
   "metadata": {},
   "outputs": [
    {
     "name": "stdout",
     "output_type": "stream",
     "text": [
      "<60\n"
     ]
    }
   ],
   "source": [
    "value = 54\n",
    "if value >= 90:\n",
    "    print(\"over or eq 90\")\n",
    "elif value >= 80:\n",
    "    print(\">=80,<90\")\n",
    "elif value >= 70:\n",
    "    print(\">=70,<80\")\n",
    "elif value >= 60:\n",
    "    print(\">=60,<70\")\n",
    "else:\n",
    "    print(\"<60\")"
   ]
  }
 ],
 "metadata": {
  "kernelspec": {
   "display_name": "venv1",
   "language": "python",
   "name": "python3"
  },
  "language_info": {
   "codemirror_mode": {
    "name": "ipython",
    "version": 3
   },
   "file_extension": ".py",
   "mimetype": "text/x-python",
   "name": "python",
   "nbconvert_exporter": "python",
   "pygments_lexer": "ipython3",
   "version": "3.11.9"
  }
 },
 "nbformat": 4,
 "nbformat_minor": 2
}
