{
 "cells": [
  {
   "cell_type": "code",
   "execution_count": 1,
   "metadata": {},
   "outputs": [
    {
     "name": "stdout",
     "output_type": "stream",
     "text": [
      "Not allow Driver License\n",
      "END\n"
     ]
    }
   ],
   "source": [
    "age = 17\n",
    "if age<18:\n",
    "    print(\"Not allow Driver License\")\n",
    "else:\n",
    "    print(\"Allow Driver License\")\n",
    "print(\"END\")"
   ]
  },
  {
   "cell_type": "code",
   "execution_count": 2,
   "metadata": {},
   "outputs": [
    {
     "data": {
      "text/plain": [
       "'345'"
      ]
     },
     "execution_count": 2,
     "metadata": {},
     "output_type": "execute_result"
    }
   ],
   "source": [
    "input(\"Please input score:\")"
   ]
  },
  {
   "cell_type": "code",
   "execution_count": 3,
   "metadata": {},
   "outputs": [
    {
     "data": {
      "text/plain": [
       "345"
      ]
     },
     "execution_count": 3,
     "metadata": {},
     "output_type": "execute_result"
    }
   ],
   "source": [
    "int(input(\"Please input score:\"))"
   ]
  },
  {
   "cell_type": "code",
   "execution_count": 4,
   "metadata": {},
   "outputs": [
    {
     "name": "stdout",
     "output_type": "stream",
     "text": [
      "789 y\n"
     ]
    }
   ],
   "source": [
    "score = int(input(\"Please input score:\"))\n",
    "is_add = input(\"是否符合加分條件? (u or n)\")\n",
    "\n",
    "print(score,is_add)"
   ]
  },
  {
   "cell_type": "code",
   "execution_count": 1,
   "metadata": {},
   "outputs": [
    {
     "name": "stdout",
     "output_type": "stream",
     "text": [
      "Student Score: 245.70000000000002\n"
     ]
    }
   ],
   "source": [
    "score = int(input(\"Please input score:\"))\n",
    "is_add = input(\"是否符合加分條件? (u or n)\")\n",
    "\n",
    "if is_add == 'y':\n",
    "    score *=1.05\n",
    "    if score > 300:\n",
    "        score = 300\n",
    "\n",
    "print(f'Student Score: {score}')"
   ]
  },
  {
   "cell_type": "code",
   "execution_count": 8,
   "metadata": {},
   "outputs": [
    {
     "name": "stdout",
     "output_type": "stream",
     "text": [
      "輸入錯誤\n",
      "END\n"
     ]
    }
   ],
   "source": [
    "try:\n",
    "    score = int(input(\"Please input score:\"))\n",
    "except:\n",
    "    print(\"輸入錯誤\")\n",
    "else:    \n",
    "    is_add = input(\"是否符合加分條件? (u or n)\")\n",
    "\n",
    "    if is_add == 'y':\n",
    "        score *=1.05\n",
    "        if score > 300:\n",
    "            score = 300\n",
    "\n",
    "    print(f'Student Score: {score}')\n",
    "\n",
    "print(\"END\")"
   ]
  },
  {
   "cell_type": "code",
   "execution_count": null,
   "metadata": {},
   "outputs": [],
   "source": [
    "try:\n",
    "    score = int(input(\"Please input score:\"))\n",
    "   # raise NameError #廣泛錯誤\n",
    "except ValueError:\n",
    "    print(\"輸入格式錯誤\")\n",
    "except Exception:\n",
    "    print(\"unkown 錯誤\")\n",
    "else:    \n",
    "    is_add = input(\"是否符合加分條件? (u or n)\")\n",
    "\n",
    "    if is_add == 'y':\n",
    "        score *=1.05\n",
    "        if score > 300:\n",
    "            score = 300\n",
    "\n",
    "    print(f'Student Score: {score}')\n",
    "\n",
    "print(\"END\")"
   ]
  },
  {
   "cell_type": "code",
   "execution_count": 2,
   "metadata": {},
   "outputs": [
    {
     "name": "stdout",
     "output_type": "stream",
     "text": [
      "Student Score: 242.55\n",
      "END\n"
     ]
    }
   ],
   "source": [
    "try:\n",
    "    score = int(input(\"Please input score:\"))\n",
    "    is_add = input(\"是否符合加分條件? (u or n)\")\n",
    "\n",
    "    if is_add == 'y':\n",
    "        score *=1.05\n",
    "        if score > 300:\n",
    "            score = 300\n",
    "\n",
    "    print(f'Student Score: {score}')\n",
    "  \n",
    "except ValueError:\n",
    "    print(\"輸入格式錯誤\")\n",
    "except Exception:\n",
    "    print(\"unkown 錯誤\")\n",
    "\n",
    "print(\"END\")"
   ]
  },
  {
   "cell_type": "code",
   "execution_count": 2,
   "metadata": {},
   "outputs": [
    {
     "name": "stdout",
     "output_type": "stream",
     "text": [
      "Student Score: 200\n",
      "END\n"
     ]
    }
   ],
   "source": [
    "try:\n",
    "    score = int(input(\"Please input score:\"))\n",
    "    if(score > 300):\n",
    "        raise Exception(\"輸入分數不可操過300\") # \"輸入分數不可操過300\"當成e的字串\n",
    "    is_add = input(\"是否符合加分條件? (y or n)\")\n",
    "\n",
    "    if is_add == 'y':\n",
    "        score *=1.05\n",
    "        if score > 300:\n",
    "            score = 300\n",
    "\n",
    "    print(f'Student Score: {score}')\n",
    "  \n",
    "except ValueError:\n",
    "    print(\"輸入格式錯誤\")\n",
    "except Exception as e:\n",
    "    print(f'Erroe Message:{e}')\n",
    "\n",
    "print(\"END\")"
   ]
  },
  {
   "cell_type": "code",
   "execution_count": null,
   "metadata": {},
   "outputs": [],
   "source": [
    "value = 70\n",
    "if value >= 90:\n",
    "    print(\"over or eq 90\")\n",
    "else:\n",
    "    print(\"<90\")"
   ]
  },
  {
   "cell_type": "code",
   "execution_count": 13,
   "metadata": {},
   "outputs": [
    {
     "name": "stdout",
     "output_type": "stream",
     "text": [
      "<60\n"
     ]
    }
   ],
   "source": [
    "value = 54\n",
    "if value >= 90:\n",
    "    print(\"over or eq 90\")\n",
    "elif value >= 80:\n",
    "    print(\">=80,<90\")\n",
    "elif value >= 70:\n",
    "    print(\">=70,<80\")\n",
    "elif value >= 60:\n",
    "    print(\">=60,<70\")\n",
    "else:\n",
    "    print(\"<60\")"
   ]
  },
  {
   "cell_type": "code",
   "execution_count": 10,
   "metadata": {},
   "outputs": [
    {
     "name": "stdout",
     "output_type": "stream",
     "text": [
      "Your BMI:20.98 \n"
     ]
    }
   ],
   "source": [
    "#homework 0907\n",
    "try:\n",
    "    W = float(input(\"Please enter your weight:（kg）：\"))\n",
    "    H = float(input(\"Please enter you height（cm）：\"))/100 #轉換成公尺\n",
    "    BMI = float(W/H/H)\n",
    "    print(f\"Your BMI:{BMI:.2f} \" )\n",
    "except Exception:\n",
    "    print(\"請輸入正確的身高、體重，須為數字\")\n"
   ]
  },
  {
   "cell_type": "code",
   "execution_count": 14,
   "metadata": {},
   "outputs": [
    {
     "name": "stdout",
     "output_type": "stream",
     "text": [
      "您的BMI值是317.2\n",
      "您的體重重度肥胖\n"
     ]
    }
   ],
   "source": [
    "from decimal import Decimal, ROUND_HALF_UP\n",
    "def getBMI(height, weight):\n",
    "\n",
    "    try:\n",
    "        # 公分轉公尺\n",
    "        _height = height * Decimal(0.01) \n",
    "\n",
    "        # BMI = 體重(公斤) / 身高2(公尺2)\n",
    "        bmi = weight / (_height ** 2) \n",
    "        bmi = bmi.quantize(Decimal('0.1'), rounding=ROUND_HALF_UP)\n",
    "        \n",
    "        # 狀態判斷\n",
    "        status = \"\"\n",
    "        if bmi >= 35:               # 重度肥胖：BMI≧35\n",
    "            status = \"重度肥胖\"\n",
    "        elif bmi >= 30:             # 中度肥胖：30≦BMI＜35\n",
    "            status = \"中度肥胖\"\n",
    "        elif bmi >= 27 :            # 輕度肥胖：27≦BMI＜30\n",
    "             status = \"輕度肥胖\"  \n",
    "        elif bmi >= 24:             # 過重：24≦BMI＜27\n",
    "            status = \"過重\"        \n",
    "        elif bmi < 18.5:             # 體重過輕 BMI＜18.5\n",
    "            status = \"體重過輕\"         \n",
    "        else:\n",
    "            status = \"正常範圍\"\n",
    "\n",
    "        return \"您的BMI值是{}\\n您的體重{}\".format(bmi, status)\n",
    "    #except Exception as e:\n",
    "    except Exception:\n",
    "        print(\"未知錯誤\", e)\n",
    "\n",
    "try:\n",
    "    height = Decimal(input(\"請輸入身高(公分)\"))\n",
    "    weight = Decimal(input(\"請輸入體重(公斤)\"))\n",
    "    print(getBMI(height, weight))\n",
    "except Exception as e:\n",
    "# except Exception:\n",
    "    print(\"請輸入正確的身高、體重，須為數字\")"
   ]
  }
 ],
 "metadata": {
  "kernelspec": {
   "display_name": "venv1",
   "language": "python",
   "name": "python3"
  },
  "language_info": {
   "codemirror_mode": {
    "name": "ipython",
    "version": 3
   },
   "file_extension": ".py",
   "mimetype": "text/x-python",
   "name": "python",
   "nbconvert_exporter": "python",
   "pygments_lexer": "ipython3",
   "version": "3.11.11"
  }
 },
 "nbformat": 4,
 "nbformat_minor": 2
}
