{
 "cells": [
  {
   "cell_type": "code",
   "execution_count": 8,
   "metadata": {},
   "outputs": [
    {
     "name": "stdout",
     "output_type": "stream",
     "text": [
      "沒這個目錄\n"
     ]
    }
   ],
   "source": [
    "#顯示絕對路徑\n",
    "import os\n",
    "os.path.abspath(__name__)\n",
    "#os.path.realpath(__file__) #NG\n",
    "root_dir = os.getcwd()\n",
    "data_dir = os.path.join(root_dir, 'data')\n",
    "data_dir\n",
    "# if os.path.isdir(data_dir):\n",
    "#     print(\"有這個目錄\")\n",
    "# else:\n",
    "#     print(\"沒這個目錄\")\n",
    "#     os.mkdir('data')\n",
    "\n",
    "if not os.path.isdir(data_dir):\n",
    "    print(\"沒這個目錄\")\n",
    "    os.mkdir('data')\n",
    "\n"
   ]
  },
  {
   "cell_type": "code",
   "execution_count": 11,
   "metadata": {},
   "outputs": [
    {
     "data": {
      "text/plain": [
       "'g:\\\\Sharing\\\\Github desktop\\\\2024picowclasskenny\\\\pico\\\\lesson13_20241012\\\\computer\\\\data\\\\2024-10-12.csv'"
      ]
     },
     "execution_count": 11,
     "metadata": {},
     "output_type": "execute_result"
    }
   ],
   "source": [
    "\n",
    "from datetime import datetime\n",
    "today = datetime.today()\n",
    "today_str = today.strftime(\"%Y-%m-%d\")\n",
    "filename = today.strftime(\"%Y-%m-%d\") + \".csv\"\n",
    "#filename\n",
    "\n",
    "#get_file_abspath\n",
    "full_path = os.path.join(data_dir,filename)\n",
    "full_path"
   ]
  },
  {
   "cell_type": "code",
   "execution_count": 15,
   "metadata": {},
   "outputs": [
    {
     "name": "stdout",
     "output_type": "stream",
     "text": [
      "沒這個檔案,然後建立 2024-10-12.csv\n"
     ]
    }
   ],
   "source": [
    "if not os.path.isdir(full_path):\n",
    "    #沒有這個檔案建立這個檔案\n",
    "    print(f\"沒這個檔案,然後建立 {today_str}.csv\")\n",
    "    with open(full_path,mode='w',encoding='utf-8',newline='') as file:\n",
    "        file.write('時間,設備,值\\n')"
   ]
  },
  {
   "cell_type": "code",
   "execution_count": 16,
   "metadata": {},
   "outputs": [],
   "source": [
    "from datetime import datetime\n",
    "today = datetime.today()\n",
    "import csv\n",
    "now_str = today.strftime(\"%Y-%m-%d %H:%M:%S\")\n",
    "header = [now_str, \"SA-20/LED_LEVEL\", 7]\n",
    "with open(full_path, mode='a', newline='', encoding='utf-8') as file:\n",
    "    writer = csv.writer(file)\n",
    "    writer.writerow(header)"
   ]
  }
 ],
 "metadata": {
  "kernelspec": {
   "display_name": "venv1",
   "language": "python",
   "name": "python3"
  },
  "language_info": {
   "codemirror_mode": {
    "name": "ipython",
    "version": 3
   },
   "file_extension": ".py",
   "mimetype": "text/x-python",
   "name": "python",
   "nbconvert_exporter": "python",
   "pygments_lexer": "ipython3",
   "version": "3.11.9"
  }
 },
 "nbformat": 4,
 "nbformat_minor": 2
}
