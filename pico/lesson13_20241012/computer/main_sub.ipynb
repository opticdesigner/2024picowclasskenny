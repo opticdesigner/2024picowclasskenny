{
 "cells": [
  {
   "cell_type": "code",
   "execution_count": 2,
   "metadata": {},
   "outputs": [
    {
     "name": "stdout",
     "output_type": "stream",
     "text": [
      "沒這個目錄\n"
     ]
    }
   ],
   "source": [
    "#顯示絕對路徑\n",
    "import os\n",
    "os.path.abspath(__name__)\n",
    "#os.path.realpath(__file__) #NG\n",
    "root_dir = os.getcwd()\n",
    "data_dir = os.path.join(root_dir, 'data')\n",
    "data_dir\n",
    "# if os.path.isdir(data_dir):\n",
    "#     print(\"有這個目錄\")\n",
    "# else:\n",
    "#     print(\"沒這個目錄\")\n",
    "#     os.mkdir('data')\n",
    "\n",
    "if not os.path.isdir(data_dir):\n",
    "    print(\"沒這個目錄\")\n",
    "    os.mkdir('data')\n",
    "\n"
   ]
  },
  {
   "cell_type": "code",
   "execution_count": 4,
   "metadata": {},
   "outputs": [
    {
     "data": {
      "text/plain": [
       "'2024-10-12'"
      ]
     },
     "execution_count": 4,
     "metadata": {},
     "output_type": "execute_result"
    }
   ],
   "source": [
    "from datetime import datetime\n",
    "today = datetime.today()\n",
    "today.strftime(\"%Y-%m-%d\")"
   ]
  }
 ],
 "metadata": {
  "kernelspec": {
   "display_name": "venv1",
   "language": "python",
   "name": "python3"
  },
  "language_info": {
   "codemirror_mode": {
    "name": "ipython",
    "version": 3
   },
   "file_extension": ".py",
   "mimetype": "text/x-python",
   "name": "python",
   "nbconvert_exporter": "python",
   "pygments_lexer": "ipython3",
   "version": "3.11.9"
  }
 },
 "nbformat": 4,
 "nbformat_minor": 2
}
